{
 "cells": [
  {
   "cell_type": "code",
   "execution_count": 31,
   "id": "f40a6bdf-6d91-4bab-94eb-a9740afd35b2",
   "metadata": {},
   "outputs": [
    {
     "name": "stdout",
     "output_type": "stream",
     "text": [
      "['list_key', 1, 2, 3, 4, 5, 'key1', 5, 3, 4, 7, 8, 9, 12]\n"
     ]
    }
   ],
   "source": [
    "list1={'list_key': [1, 2, 3, 4, 5],'key1':5,3:(4,7,8,9,12)}\n",
    "list2=[]\n",
    "for key in list1.keys():\n",
    "    list2.append(key)\n",
    "    if type(list1[key]) in [set, list, tuple]:\n",
    "        list2.extend((list1[key]))\n",
    "    else:\n",
    "        list2.append(list1[key])\n",
    "\n",
    "\n",
    "    \n",
    "    \n",
    "    \n",
    "print(list2)"
   ]
  },
  {
   "cell_type": "code",
   "execution_count": 40,
   "id": "c61def17-2ff8-479c-9e40-1a0d1bd983c8",
   "metadata": {},
   "outputs": [],
   "source": [
    "list1={'list_key': [1, 2, 3, 4, 5],'key1':5,3:(4,7,8,9,12)}\n",
    "list2=[]\n",
    "for i in list1.keys():\n",
    "    list2.append(i)\n",
    "for i in list1.values():    \n",
    "    if type(i) in [set, list, tuple]:\n",
    "        list2.extend((i))\n",
    "    else:\n",
    "        list2.append((i))\n"
   ]
  },
  {
   "cell_type": "code",
   "execution_count": 41,
   "id": "6c90f0ce-774f-4d7a-baec-e8795886e8e0",
   "metadata": {},
   "outputs": [
    {
     "data": {
      "text/plain": [
       "['list_key', 'key1', 3, 1, 2, 3, 4, 5, 5, 4, 7, 8, 9, 12]"
      ]
     },
     "execution_count": 41,
     "metadata": {},
     "output_type": "execute_result"
    }
   ],
   "source": [
    "list2"
   ]
  },
  {
   "cell_type": "code",
   "execution_count": null,
   "id": "f2989dd1-ce4f-4d9a-a97c-efae10d715db",
   "metadata": {},
   "outputs": [],
   "source": []
  }
 ],
 "metadata": {
  "kernelspec": {
   "display_name": "Python 3 (ipykernel)",
   "language": "python",
   "name": "python3"
  },
  "language_info": {
   "codemirror_mode": {
    "name": "ipython",
    "version": 3
   },
   "file_extension": ".py",
   "mimetype": "text/x-python",
   "name": "python",
   "nbconvert_exporter": "python",
   "pygments_lexer": "ipython3",
   "version": "3.10.8"
  }
 },
 "nbformat": 4,
 "nbformat_minor": 5
}
